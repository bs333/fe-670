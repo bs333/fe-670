{
 "cells": [
  {
   "cell_type": "markdown",
   "metadata": {},
   "source": [
    "### FE670 - Assignment #2"
   ]
  },
  {
   "cell_type": "markdown",
   "metadata": {},
   "source": [
    "**Author**: Sid Bhatia\n",
    "\n",
    "**Date**: October 12th, 2023\n",
    "\n",
    "**Pledge**: I pledge my honor that I have abided by the Stevens Honor System.\n",
    "\n",
    "**Professor**: Dr. Steve Yang"
   ]
  },
  {
   "cell_type": "markdown",
   "metadata": {},
   "source": [
    "#### Problem #1"
   ]
  },
  {
   "cell_type": "markdown",
   "metadata": {},
   "source": [
    "Given $n$ securities with Expected Return Vector $\\bm{\\mu}$ and Covariance Matrix $\\bm{\\Sigma}$, the return of a portfolio with weights $\\mathbf{w}$ is a random variable $R_p = \\mathbf{w'R}$ with expected return and variance given by:"
   ]
  },
  {
   "cell_type": "markdown",
   "metadata": {},
   "source": [
    "$$\\mu_p = \\mathbf{w'}\\bm{\\mu} \\\\ \\sigma_p^2 = \\mathbf{w'}\\bm{\\Sigma}\\mathbf{w}$$"
   ]
  },
  {
   "cell_type": "markdown",
   "metadata": {},
   "source": [
    "For now, we simply assume that expected returns, $\\bm{\\mu}$, and their covariance matrix $\\bm{\\Sigma}$, are given. To calculate the weights for one\n",
    "possible pair, we choose a targeted mean return, $\\mu_0$.  Following Markowitz, the investor’s problem is constrained minimization problem:"
   ]
  },
  {
   "cell_type": "markdown",
   "metadata": {},
   "source": [
    "$$\\min_{w} \\frac{1}{2} \\mathbf{w'}\\bm{\\Sigma}\\mathbf{w} \\\\ \\text{s.t} \\\\ \\mu_0 = \\mathbf{w'}\\bm{\\mu}, \\mathbf{w'1'} = 1, \\mathbf{1'} = [1, 1, \\cdots, 1]$$"
   ]
  },
  {
   "cell_type": "markdown",
   "metadata": {},
   "source": [
    "We refer to this version of the classical mean-variance optimization problem as the *risk minimization formulation*, and this problem is a quadratic optimization problem with equality constraints with the solution given by:"
   ]
  },
  {
   "cell_type": "markdown",
   "metadata": {},
   "source": [
    "$$w = \\bm{\\lambda}\\bm{\\Sigma^{-1}}\\mathbf{1'} + \\bm{\\gamma\\Sigma^{-1}\\mu} \\\\ \\text{where} \\\\ \\bm{\\lambda} = \\frac{C - \\mu_0B}{\\Delta}, \\bm{\\gamma} = \\frac{\\mu_0A - B}{\\Delta} \\\\ A = \\bm{1'\\Sigma^{-1}1}, B = \\bm{1'\\Sigma^{-1}\\mu}, C = \\bm{\\mu'\\Sigma^{-1}\\mu} \\\\ \\Delta = \\mathbf{AC - B^2}$$"
   ]
  },
  {
   "cell_type": "markdown",
   "metadata": {},
   "source": [
    "It is easy to see that:"
   ]
  },
  {
   "cell_type": "markdown",
   "metadata": {},
   "source": [
    "$$\\sigma_0^2 = \\mathbf{w'}\\bm{\\Sigma^{-1}}\\mathbf{w} \\\\ = \\frac{A\\mu_0^2 - 2B\\mu_0 + C}{\\Delta}$$"
   ]
  },
  {
   "cell_type": "markdown",
   "metadata": {},
   "source": [
    "Now, we take $n = 2$ and denote the optimal solution by $w(\\sigma_0^2)$, and assume that the expected $\\bf{\\mu} = \\begin{pmatrix} 0.05 \\\\ 0.10 \\end{pmatrix}$ and $\\bf{\\Sigma} = \\begin{pmatrix} 0.01 & - 0.01 \\\\ -0.01 & 0.04 \\end{pmatrix}$, please answer the following questions:"
   ]
  },
  {
   "cell_type": "markdown",
   "metadata": {},
   "source": [
    "1. Please plot the efficient frontier of the portfolio, and calculate variance when $\\bm{\\mu_0} = 0.10$ and $\\bm{\\mu_0} = 0.20$ manually."
   ]
  },
  {
   "cell_type": "code",
   "execution_count": 9,
   "metadata": {},
   "outputs": [
    {
     "ename": "TypeError",
     "evalue": "ufunc 'bitwise_xor' not supported for the input types, and the inputs could not be safely coerced to any supported types according to the casting rule ''safe''",
     "output_type": "error",
     "traceback": [
      "\u001b[1;31m---------------------------------------------------------------------------\u001b[0m",
      "\u001b[1;31mTypeError\u001b[0m                                 Traceback (most recent call last)",
      "\u001b[1;32mc:\\Users\\sbhatia2\\My Drive\\University\\Academics\\Semester V\\FE670 - Algorithmic Trading Strategies\\FE670 - Homeworks\\FE670 - Homework #2\\FE670 - Homework #2.ipynb Cell 14\u001b[0m line \u001b[0;36m1\n\u001b[0;32m     <a href='vscode-notebook-cell:/c%3A/Users/sbhatia2/My%20Drive/University/Academics/Semester%20V/FE670%20-%20Algorithmic%20Trading%20Strategies/FE670%20-%20Homeworks/FE670%20-%20Homework%20%232/FE670%20-%20Homework%20%232.ipynb#X22sZmlsZQ%3D%3D?line=15'>16</a>\u001b[0m B \u001b[39m=\u001b[39m ones \u001b[39m@\u001b[39m np\u001b[39m.\u001b[39mlinalg\u001b[39m.\u001b[39minv(covariance_matrix) \u001b[39m@\u001b[39m mu\n\u001b[0;32m     <a href='vscode-notebook-cell:/c%3A/Users/sbhatia2/My%20Drive/University/Academics/Semester%20V/FE670%20-%20Algorithmic%20Trading%20Strategies/FE670%20-%20Homeworks/FE670%20-%20Homework%20%232/FE670%20-%20Homework%20%232.ipynb#X22sZmlsZQ%3D%3D?line=16'>17</a>\u001b[0m C \u001b[39m=\u001b[39m mu \u001b[39m@\u001b[39m np\u001b[39m.\u001b[39mlinalg\u001b[39m.\u001b[39minv(covariance_matrix) \u001b[39m@\u001b[39m mu\n\u001b[1;32m---> <a href='vscode-notebook-cell:/c%3A/Users/sbhatia2/My%20Drive/University/Academics/Semester%20V/FE670%20-%20Algorithmic%20Trading%20Strategies/FE670%20-%20Homeworks/FE670%20-%20Homework%20%232/FE670%20-%20Homework%20%232.ipynb#X22sZmlsZQ%3D%3D?line=17'>18</a>\u001b[0m Delta \u001b[39m=\u001b[39m A \u001b[39m*\u001b[39;49m C \u001b[39m-\u001b[39;49m B\u001b[39m^\u001b[39;49m\u001b[39m2\u001b[39;49m \n\u001b[0;32m     <a href='vscode-notebook-cell:/c%3A/Users/sbhatia2/My%20Drive/University/Academics/Semester%20V/FE670%20-%20Algorithmic%20Trading%20Strategies/FE670%20-%20Homeworks/FE670%20-%20Homework%20%232/FE670%20-%20Homework%20%232.ipynb#X22sZmlsZQ%3D%3D?line=19'>20</a>\u001b[0m \u001b[39m# Calculate portfolio variances for each mu_0.\u001b[39;00m\n\u001b[0;32m     <a href='vscode-notebook-cell:/c%3A/Users/sbhatia2/My%20Drive/University/Academics/Semester%20V/FE670%20-%20Algorithmic%20Trading%20Strategies/FE670%20-%20Homeworks/FE670%20-%20Homework%20%232/FE670%20-%20Homework%20%232.ipynb#X22sZmlsZQ%3D%3D?line=20'>21</a>\u001b[0m \u001b[39mfor\u001b[39;00m mu_0 \u001b[39min\u001b[39;00m mu_0_range:\n",
      "\u001b[1;31mTypeError\u001b[0m: ufunc 'bitwise_xor' not supported for the input types, and the inputs could not be safely coerced to any supported types according to the casting rule ''safe''"
     ]
    }
   ],
   "source": [
    "import numpy as np\n",
    "import matplotlib.pyplot as plt\n",
    "\n",
    "mu = np.array([0.05, 0.10])\n",
    "covariance_matrix = np.array([[0.01, -0.01], [-0.01, 0.04]])\n",
    "\n",
    "# Create a range of target expected returns (mu_0).\n",
    "mu_0_range = np.arange(0.01, 0.16, 0.01)\n",
    "\n",
    "# Initialize arrays to store portfolio variances.\n",
    "portfolio_variances = []\n",
    "\n",
    "# Define respective solution variables.\n",
    "ones = np.ones(2)\n",
    "A = ones @ np.linalg.inv(covariance_matrix) @ ones\n",
    "B = ones @ np.linalg.inv(covariance_matrix) @ mu\n",
    "C = mu @ np.linalg.inv(covariance_matrix) @ mu\n",
    "Delta = A * C - B**2\n",
    "\n",
    "# Calculate portfolio variances for each mu_0.\n",
    "for mu_0 in mu_0_range:\n",
    "    sigma_0_squared = (A * mu_0**2 - 2 * B * mu_0 + C) / Delta\n",
    "    portfolio_variances.append(sigma_0_squared)\n",
    "\n",
    "# Plot the efficient frontier\n",
    "plt.figure(figsize=(8, 6))\n",
    "plt.plot(portfolio_variances, mu_0_range, marker='o', linestyle='-')\n",
    "plt.title('Efficient Frontier')\n",
    "plt.xlabel('Portfolio Variance')\n",
    "plt.ylabel('Target Expected Return (mu_0)')\n",
    "plt.grid(True)\n",
    "plt.show()\n",
    "\n",
    "# Calculate portfolio variance for mu_0 = 0.10 and mu_0 = 0.20\n",
    "mu_0_1 = 0.10\n",
    "mu_0_2 = 0.20\n",
    "\n",
    "sigma_0_1_squared = (A * mu_0_1**2 - 2 * B * mu_0_1 + C) / Delta\n",
    "sigma_0_2_squared = (A * mu_0_2**2 - 2 * B * mu_0_2 + C) / Delta\n",
    "\n",
    "print(f'Portfolio Variance for mu_0 = 0.10: {sigma_0_1_squared:.2f}')\n",
    "print(f'Portfolio Variance for mu_0 = 0.20: {sigma_0_2_squared:.2f}')"
   ]
  }
 ],
 "metadata": {
  "kernelspec": {
   "display_name": "Python 3",
   "language": "python",
   "name": "python3"
  },
  "language_info": {
   "codemirror_mode": {
    "name": "ipython",
    "version": 3
   },
   "file_extension": ".py",
   "mimetype": "text/x-python",
   "name": "python",
   "nbconvert_exporter": "python",
   "pygments_lexer": "ipython3",
   "version": "3.11.5"
  }
 },
 "nbformat": 4,
 "nbformat_minor": 2
}
