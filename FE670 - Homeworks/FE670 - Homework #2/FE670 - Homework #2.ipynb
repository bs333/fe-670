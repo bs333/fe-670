{
 "cells": [
  {
   "cell_type": "markdown",
   "metadata": {},
   "source": [
    "### FE670 - Assignment #2"
   ]
  },
  {
   "cell_type": "markdown",
   "metadata": {},
   "source": [
    "**Author**: Sid Bhatia\n",
    "\n",
    "**Date**: October 12th, 2023\n",
    "\n",
    "**Pledge**: I pledge my honor that I have abided by the Stevens Honor System.\n",
    "\n",
    "**Professor**: Dr. Steve Yang"
   ]
  },
  {
   "cell_type": "markdown",
   "metadata": {},
   "source": [
    "#### Problem #1"
   ]
  },
  {
   "cell_type": "markdown",
   "metadata": {},
   "source": [
    "Given $n$ securities with Expected Return Vector $\\bm{\\mu}$ and Covariance Matrix $\\bm{\\Sigma}$, the return of a portfolio with weights $\\mathbf{w}$ is a random variable $R_p = \\mathbf{w'R}$ with expected return and variance given by:"
   ]
  },
  {
   "cell_type": "markdown",
   "metadata": {},
   "source": [
    "$$\\mu_p = \\mathbf{w'}\\bm{\\mu} \\\\ \\sigma_p^2 = \\mathbf{w'}\\bm{\\Sigma}\\mathbf{w}$$"
   ]
  },
  {
   "cell_type": "markdown",
   "metadata": {},
   "source": [
    "For now, we simply assume that expected returns, $\\bm{\\mu}$, and their covariance matrix $\\bm{\\Sigma}$, are given. To calculate the weights for one\n",
    "possible pair, we choose a targeted mean return, $\\mu_0$.  Following Markowitz, the investor’s problem is constrained minimization problem:"
   ]
  },
  {
   "cell_type": "markdown",
   "metadata": {},
   "source": [
    "$$\\min_{w} \\frac{1}{2} \\mathbf{w'}\\bm{\\Sigma}\\mathbf{w} \\\\ \\text{s.t} \\\\ \\mu_0 = \\mathbf{w'}\\bm{\\mu}, \\mathbf{w'1'} = 1, \\mathbf{1'} = [1, 1, \\cdots, 1]$$"
   ]
  },
  {
   "cell_type": "markdown",
   "metadata": {},
   "source": [
    "We refer to this version of the classical mean-variance optimization problem as the *risk minimization formulation*, and this\n",
    "problem is a quadratic optimization problem with equality constraints with the solution given by:"
   ]
  },
  {
   "cell_type": "markdown",
   "metadata": {},
   "source": [
    "$$w = \\bm{\\lambda}\\bm{\\Sigma^{-1}}\\mathbf{1'} + \\bm{\\gamma\\Sigma^{-1}\\mu} \\\\ \\text{where} \\\\ \\bm{\\lambda} = \\frac{C - \\mu_0B}{\\Delta}, \\bm{\\gamma} = \\frac{\\mu_0A - B}{\\Delta} \\\\ A = \\bm{1'\\Sigma^{-1}1}, B = \\bm{1'\\Sigma^{-1}\\mu}, C = \\bm{\\mu'\\Sigma^{-1}\\mu} \\\\ \\Delta = \\mathbf{AC - B^2}$$"
   ]
  },
  {
   "cell_type": "markdown",
   "metadata": {},
   "source": [
    "It is easy to see that:"
   ]
  },
  {
   "cell_type": "markdown",
   "metadata": {},
   "source": [
    "$$\\sigma_0^2 = \\mathbf{w'}\\bm{\\Sigma^{-1}}\\mathbf{w} \\\\ = \\frac{A\\mu_0^2 - 2B\\mu_0 + C}{\\Delta}$$"
   ]
  },
  {
   "cell_type": "markdown",
   "metadata": {},
   "source": [
    "Now, we take $n = 2$ and denote the optimal solution by"
   ]
  }
 ],
 "metadata": {
  "language_info": {
   "name": "python"
  }
 },
 "nbformat": 4,
 "nbformat_minor": 2
}
