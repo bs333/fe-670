{
 "cells": [
  {
   "cell_type": "markdown",
   "metadata": {},
   "source": [
    "### FE670 - Assignment #1"
   ]
  },
  {
   "cell_type": "markdown",
   "metadata": {},
   "source": [
    "**Author**: Sid Bhatia\n",
    "\n",
    "**Date**: October 5th, 2023\n",
    "\n",
    "**Pledge**: I pledge my honor that I have abided by the Stevens Honor System.\n",
    "\n",
    "**Professor**: Dr. Steve Yang"
   ]
  },
  {
   "cell_type": "markdown",
   "metadata": {},
   "source": [
    "#### Problem #1"
   ]
  },
  {
   "cell_type": "markdown",
   "metadata": {},
   "source": [
    "We can simulate independent random walk price\n",
    "processes, each representing the price of a company’s stock, over\n",
    "1,000 periods using the recursive formulation:"
   ]
  },
  {
   "cell_type": "markdown",
   "metadata": {},
   "source": [
    "$$P_i(2) = 1 + 0.007 \\times \\epsilon_i(2)$$\n",
    "$$P_i(3) = (1 + 0.007 \\times \\epsilon_i(3) \\times (1 + 0.007 \\times \\epsilon_i(2)))$$\n",
    "$$\\cdots$$\n",
    "$$P_i(n) = (1 + 0.007 \\times \\epsilon_i(n)) \\times \\cdots \\times (1 + 0.007 \\times \\epsilon_i(3)) \\times (1 + 0.007 \\times \\epsilon_i(2))"
   ]
  },
  {
   "cell_type": "markdown",
   "metadata": {},
   "source": [
    "where $P_i(n)$ represents the $i$-th stock's price at period $n$, $e_i(n)$ are normally normally distributed random processes, and we assume $P_i(1) = 1$. The level of volatility, $0.007$, is compatible with realistic market values."
   ]
  },
  {
   "cell_type": "markdown",
   "metadata": {},
   "source": []
  }
 ],
 "metadata": {
  "language_info": {
   "name": "python"
  },
  "orig_nbformat": 4
 },
 "nbformat": 4,
 "nbformat_minor": 2
}
