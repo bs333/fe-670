{
 "cells": [
  {
   "cell_type": "markdown",
   "metadata": {},
   "source": [
    "### FE670 - Midterm Exam Part II"
   ]
  },
  {
   "cell_type": "markdown",
   "metadata": {},
   "source": [
    "**Author**: Sid Bhatia\n",
    "\n",
    "**Date**: November 2th, 2023\n",
    "\n",
    "**Pledge**: I pledge my honor that I have abided by the Stevens Honor System.\n",
    "\n",
    "**Professor**: Dr. Steve Yang"
   ]
  },
  {
   "cell_type": "markdown",
   "metadata": {},
   "source": [
    "#### Background"
   ]
  },
  {
   "cell_type": "markdown",
   "metadata": {},
   "source": [
    "The S&P 500 stock market index, maintained by S&P Dow Jones Indices, comprises 500 large-cap American companies covering about 75 percent of the American equity market by capitalization. The index is weighted by market capitalization, so large companies account for relatively more of the index with the symbol SPY. The amount of change in the price of these stocks will be highly correlated, as they are all part of the larger market. Factor analysis will be used to reduce the dimensionality of the 500 stocks in the S&P 500 stock market index to reflect the influence of 11 major industry sectors."
   ]
  },
  {
   "cell_type": "markdown",
   "metadata": {},
   "source": [
    "After some research, you are given a set of 20 stocks within the S&P500 stock index to build a portfolio for your client. These 20 stocks are mixed with the top 10 most volatile and 10 least volatile during the period of 2013 and 2016. The ticker symbols of these 20 stocks are: ’CHK’, ’AMD’, ’LNT’, ’FCX’, ’VRTX’, ’WMB’, ’INCY’, ’NFLX’, ’MRO’, ’MU’, ’MCD’, ’BRK.B’, ’SO’, ’T’, ’KO’, ’PG’, ’JNJ’, ’WM’, ’RSG’, ’PEP’. You can get the daily stock prices and S&P 500 index prices for the same period from Yahoo finance using Python Yahoo finance package."
   ]
  },
  {
   "cell_type": "markdown",
   "metadata": {},
   "source": [
    "Your client is afraid of any exposure to the ENERGY sector due to the high uncertainty during the last 4 years. You were asked to perform a factor analysis using the 11 major industry sector ETFs as the benchmarks of the sector performances to reflect the influence of 11 major industry sectors. These factors can then be considered in your portfolio analysis for time period from January 01, 2017 to December 31, 2020."
   ]
  },
  {
   "cell_type": "markdown",
   "metadata": {},
   "source": [
    "Again you may use Python Yahoo finance package, use factor analysis on Vanguard Sector & specialty ETFs (’VOX’, ’VCR’, ’VDC’, ’VDE’, ’VFH’, ’VHT’, ’VIS’, ’VGT’, ’VAW’, ’VNQ’, ’VPU’) which represents the following corresponding sectors: ’COMM’, ’CONSUMER DISC’, ’CONSUMER ST’, ’ENERGY’, ’FINANCIALS’, ’HEALTH’, ’INDUSTRIALS’, ’TECHNOLOGY’, ’MATIREALS’, ’REAL ESTATE’, ’UTILITIES’. The data consists of the high, low, opening, and closing price of each of the 11 ETFs for each day. This includes all data from January 01, 2017 to December 31, 2020. We also have the S&P500 index prices during the same period.\n",
    "\n",
    "Please answer the following questions using the dataset:"
   ]
  },
  {
   "cell_type": "markdown",
   "metadata": {},
   "source": [
    "#### Problem #1"
   ]
  },
  {
   "cell_type": "markdown",
   "metadata": {},
   "source": [
    "Perform a factor analysis on returns of the 11 selected sector ETFs and the S&P 500 index from January 01, 2017 to December 31, 2020. Using a scree plot and by analyzing the eigenvalues of the correlation matrix, choose a sufficient number of factors for the market influence. Please provide the factor loadings for ‘VDE’ sector within the chosen important factors, and make your observations about the ENERGY sector influence. (10 points)"
   ]
  },
  {
   "cell_type": "markdown",
   "metadata": {},
   "source": [
    "##### Step 1: Data Preparation"
   ]
  },
  {
   "cell_type": "code",
   "execution_count": 44,
   "metadata": {},
   "outputs": [
    {
     "name": "stdout",
     "output_type": "stream",
     "text": [
      "[*********************100%***********************]  12 of 12 completed\n"
     ]
    }
   ],
   "source": [
    "# Import the relevant libraries.\n",
    "import pandas as pd\n",
    "import numpy as np\n",
    "import yfinance as yf\n",
    "import matplotlib.pyplot as plt\n",
    "from sklearn.decomposition import FactorAnalysis\n",
    "from sklearn.preprocessing import StandardScaler\n",
    "\n",
    "# Define the tickers for the ETFs and S&P500.\n",
    "etf_tickers = ['VOX', 'VCR', 'VDC', 'VDE', 'VFH', 'VHT', 'VIS', 'VGT', 'VAW', 'VNQ', 'VPU', 'SPY']\n",
    "\n",
    "# Fetch data for the specified period\n",
    "data = yf.download(etf_tickers, start=\"2017-01-01\", end=\"2020-12-31\")['Close']\n",
    "\n",
    "# Calculate daily returns.\n",
    "returns_df = data.pct_change().dropna()"
   ]
  },
  {
   "cell_type": "markdown",
   "metadata": {},
   "source": [
    "##### Step 2: Factor Analysis and Scree Plot"
   ]
  },
  {
   "cell_type": "code",
   "execution_count": 45,
   "metadata": {},
   "outputs": [
    {
     "data": {
      "image/png": "[encoded data removed]",
      "text/plain": [
       "<Figure size 640x480 with 1 Axes>"
      ]
     },
     "metadata": {},
     "output_type": "display_data"
    }
   ],
   "source": [
    "# Scale the returns.\n",
    "scaler = StandardScaler()\n",
    "scaled_returns = scaler.fit_transform(returns_df)\n",
    "\n",
    "# Calculate the eigenvalues of the correlation matrix.\n",
    "eigenvalues, eigenvectors = np.linalg.eig(returns_df.corr())\n",
    "\n",
    "# Plot the eigenvalues.\n",
    "plt.plot(range(1, len(eigenvalues) + 1), eigenvalues, 'o-', markerfacecolor='red')\n",
    "plt.title('Scree Plot')\n",
    "plt.xlabel('Number of Factors')\n",
    "plt.ylabel('Eigenvalues')\n",
    "plt.show()"
   ]
  },
  {
   "cell_type": "markdown",
   "metadata": {},
   "source": [
    "As seen above, the number of factors where the eigenvalues start to level off is at approximately **2 factors.**"
   ]
  },
  {
   "cell_type": "markdown",
   "metadata": {},
   "source": [
    "##### Step 3: Factor Loadings for 'VDE'"
   ]
  },
  {
   "cell_type": "code",
   "execution_count": 46,
   "metadata": {},
   "outputs": [
    {
     "name": "stdout",
     "output_type": "stream",
     "text": [
      "0   -0.73071\n",
      "1    0.39718\n",
      "Name: VDE, dtype: float64\n"
     ]
    }
   ],
   "source": [
    "num_of_factors = 2\n",
    "fa = FactorAnalysis(n_components=num_of_factors)\n",
    "factor_data = fa.fit_transform(scaled_returns)\n",
    "\n",
    "# Extract factor loadings.\n",
    "loadings = pd.DataFrame(fa.components_, columns=returns_df.columns).T\n",
    "\n",
    "# Display loadings for VDE.\n",
    "print(loadings.loc['VDE'])"
   ]
  },
  {
   "cell_type": "markdown",
   "metadata": {},
   "source": [
    "Above are the factor loadings for VDE which explain how much variance in VDE (Energy Sector) is explained by the underlying factors. \n",
    "\n",
    "For **Factor 0**, the loading is $-0.73071$ which suggests that there is a significant negative relationship between VDE and this latent factor. \n",
    "\n",
    "If we assume that Factor 0 represents the overall market (which is common for most factor analysis), then the Energy sector has an inverse relationship with the overall market, implying that during the period from 2017 to 2020, the Energy sector was moving opposite to the overall market. This is important since it could be a potential hedge against broader market downturns. However, this is only if Factor 0 represents the SPY. Otherwise, we can only say that VDE has a significant negative relationship with this latent factor.\n",
    "\n",
    "For **Factor 1**, the loading is $0.39718$, which indicates a moderate positive relationship between VDE and this latent factor. This means that VDE tends to move in the same direction as this factor."
   ]
  },
  {
   "cell_type": "markdown",
   "metadata": {},
   "source": [
    "#### Problem #2"
   ]
  },
  {
   "cell_type": "markdown",
   "metadata": {},
   "source": [
    "Now use data from January 01, 2017 to December 31, 2020 to build a portfolio with all 20 stocks through minimizing the return variance with a targeted return of 0.03. Assume that the portfolio weights add up to 1, allowing for short sales. Test the portfolio performance during the first 6 months of 2021 (01/01/2021 to 06/30/2021) and compare the performance of the portfolio’s daily return with the S&P 500 index daily return using Sharpe ratio. (15 points)"
   ]
  },
  {
   "cell_type": "markdown",
   "metadata": {},
   "source": [
    "##### Step 1: Data Loading & Preprocessing"
   ]
  },
  {
   "cell_type": "code",
   "execution_count": 50,
   "metadata": {},
   "outputs": [
    {
     "name": "stdout",
     "output_type": "stream",
     "text": [
      "                 CHK       AMD       LNT       FCX      VRTX       WMB   \n",
      "Date                                                                     \n",
      "2021-02-11 -0.048678  0.003357 -0.008347 -0.008003 -0.009552 -0.023235  \\\n",
      "2021-02-12 -0.006776  0.011979 -0.008622  0.007744  0.016532  0.025135   \n",
      "2021-02-16  0.024465 -0.024635 -0.009733  0.053474 -0.017338  0.003065   \n",
      "2021-02-17  0.016303 -0.016619  0.008574  0.037994  0.021782  0.007857   \n",
      "2021-02-18 -0.028468 -0.014454  0.007879 -0.000293 -0.023365 -0.035946   \n",
      "\n",
      "                INCY      NFLX       MRO        MU       MCD     BRK-B   \n",
      "Date                                                                     \n",
      "2021-02-11 -0.002113 -0.010646 -0.037404  0.050152 -0.000606 -0.000667  \\\n",
      "2021-02-12 -0.007766 -0.001919  0.025143  0.017692 -0.001727  0.011261   \n",
      "2021-02-16 -0.026088  0.001366  0.068233 -0.003068  0.005283  0.011631   \n",
      "2021-02-17  0.019968 -0.010659  0.003141 -0.019261 -0.007348 -0.000122   \n",
      "2021-02-18 -0.026501 -0.005659 -0.048017  0.028937  0.009276 -0.007136   \n",
      "\n",
      "                  SO         T        KO        PG       JNJ        WM   \n",
      "Date                                                                     \n",
      "2021-02-11  0.005908  0.004904  0.014113  0.000858 -0.004496 -0.004134  \\\n",
      "2021-02-12 -0.009068  0.003834  0.007753 -0.005533  0.003131  0.000265   \n",
      "2021-02-16 -0.013311  0.005903 -0.008286  0.002351 -0.009065 -0.005740   \n",
      "2021-02-17 -0.000506  0.020711 -0.002785  0.004221  0.003574 -0.003463   \n",
      "2021-02-18  0.009786 -0.011498  0.012767  0.008329  0.000483  0.010872   \n",
      "\n",
      "                 RSG       PEP  \n",
      "Date                            \n",
      "2021-02-11  0.008506 -0.019826  \n",
      "2021-02-12 -0.000329 -0.008150  \n",
      "2021-02-16 -0.009643  0.003810  \n",
      "2021-02-17 -0.003319  0.000595  \n",
      "2021-02-18  0.018206  0.006768  \n"
     ]
    }
   ],
   "source": [
    "# Load the dataset.\n",
    "data = pd.read_csv('SP20-2017-2021_Updated.csv')\n",
    "data['Date'] = pd.to_datetime(data['Date'])\n",
    "data.set_index('Date', inplace=True)\n",
    "\n",
    "# Compute daily returns for 20 stocks.\n",
    "daily_returns = data.pct_change().dropna()\n",
    "\n",
    "print(daily_returns.head())"
   ]
  },
  {
   "cell_type": "markdown",
   "metadata": {},
   "source": [
    "##### Step 2: Portfolio Construction"
   ]
  },
  {
   "cell_type": "code",
   "execution_count": 51,
   "metadata": {},
   "outputs": [
    {
     "name": "stdout",
     "output_type": "stream",
     "text": [
      "CHK      0.002386\n",
      "AMD      0.002375\n",
      "LNT      0.000917\n",
      "FCX      0.001451\n",
      "VRTX    -0.000395\n",
      "WMB      0.001551\n",
      "INCY    -0.001050\n",
      "NFLX     0.000915\n",
      "MRO      0.004032\n",
      "MU      -0.000368\n",
      "MCD      0.001082\n",
      "BRK-B    0.001020\n",
      "SO       0.000403\n",
      "T       -0.000310\n",
      "KO       0.000878\n",
      "PG       0.000829\n",
      "JNJ      0.000002\n",
      "WM       0.001943\n",
      "RSG      0.002185\n",
      "PEP      0.001143\n",
      "dtype: float64\n",
      "                CHK       AMD           LNT       FCX      VRTX       WMB   \n",
      "CHK    4.983586e-04  0.000072 -6.687807e-06  0.000280 -0.000011  0.000156  \\\n",
      "AMD    7.203623e-05  0.000584 -4.733619e-05  0.000198  0.000067  0.000020   \n",
      "LNT   -6.687807e-06 -0.000047  1.278052e-04 -0.000067  0.000019  0.000016   \n",
      "FCX    2.802714e-04  0.000198 -6.672365e-05  0.001016  0.000030  0.000212   \n",
      "VRTX  -1.138651e-05  0.000067  1.872131e-05  0.000030  0.000220  0.000020   \n",
      "WMB    1.558451e-04  0.000020  1.564589e-05  0.000212  0.000020  0.000194   \n",
      "INCY   4.891064e-05  0.000106  8.766925e-06  0.000022  0.000129  0.000026   \n",
      "NFLX  -1.951878e-05  0.000126  7.333438e-07  0.000029  0.000029 -0.000015   \n",
      "MRO    3.994992e-04  0.000086 -6.471330e-05  0.000564  0.000040  0.000338   \n",
      "MU     6.594447e-05  0.000334 -3.485764e-05  0.000255  0.000034  0.000040   \n",
      "MCD    2.378967e-05  0.000014  3.098414e-05  0.000038  0.000021  0.000029   \n",
      "BRK-B  6.703744e-05 -0.000003  2.662399e-05  0.000124  0.000013  0.000059   \n",
      "SO     2.295890e-06 -0.000020  8.038579e-05 -0.000023  0.000021  0.000012   \n",
      "T      5.112454e-05 -0.000035  3.087389e-05  0.000074  0.000015  0.000046   \n",
      "KO    -2.559868e-07 -0.000014  4.316336e-05  0.000007  0.000022  0.000030   \n",
      "PG    -1.847586e-05 -0.000018  5.522649e-05 -0.000016  0.000027  0.000009   \n",
      "JNJ    1.964062e-06  0.000008  4.113486e-05  0.000016  0.000030  0.000010   \n",
      "WM    -1.901210e-05 -0.000025  5.499764e-05  0.000010  0.000020  0.000024   \n",
      "RSG   -2.796819e-05 -0.000013  5.431965e-05  0.000003  0.000013  0.000015   \n",
      "PEP   -1.492582e-05  0.000009  4.903538e-05 -0.000018  0.000031  0.000016   \n",
      "\n",
      "           INCY          NFLX       MRO            MU       MCD     BRK-B   \n",
      "CHK    0.000049 -1.951878e-05  0.000399  6.594447e-05  0.000024  0.000067  \\\n",
      "AMD    0.000106  1.264881e-04  0.000086  3.336451e-04  0.000014 -0.000003   \n",
      "LNT    0.000009  7.333438e-07 -0.000065 -3.485764e-05  0.000031  0.000027   \n",
      "FCX    0.000022  2.932810e-05  0.000564  2.551989e-04  0.000038  0.000124   \n",
      "VRTX   0.000129  2.874018e-05  0.000040  3.363469e-05  0.000021  0.000013   \n",
      "WMB    0.000026 -1.501677e-05  0.000338  4.030942e-05  0.000029  0.000059   \n",
      "INCY   0.000297  4.044428e-05  0.000048  9.625260e-05  0.000017  0.000008   \n",
      "NFLX   0.000040  2.689973e-04 -0.000006  1.020688e-04  0.000015 -0.000010   \n",
      "MRO    0.000048 -5.727114e-06  0.001192  1.954586e-04  0.000031  0.000120   \n",
      "MU     0.000096  1.020688e-04  0.000195  5.630160e-04  0.000040  0.000058   \n",
      "MCD    0.000017  1.525370e-05  0.000031  3.972346e-05  0.000084  0.000033   \n",
      "BRK-B  0.000008 -1.030136e-05  0.000120  5.800584e-05  0.000033  0.000096   \n",
      "SO     0.000016  2.567057e-07 -0.000049  6.387421e-07  0.000032  0.000026   \n",
      "T      0.000020 -1.463136e-05  0.000101  4.679781e-06  0.000038  0.000052   \n",
      "KO     0.000011 -4.381601e-06  0.000014  1.680446e-05  0.000042  0.000038   \n",
      "PG     0.000012  1.332287e-05 -0.000056  2.336602e-07  0.000022  0.000029   \n",
      "JNJ    0.000021  8.548312e-06 -0.000034  1.545467e-05  0.000024  0.000033   \n",
      "WM     0.000003 -5.004031e-06 -0.000011 -8.537396e-06  0.000031  0.000043   \n",
      "RSG   -0.000003  3.065359e-06 -0.000031  8.508546e-06  0.000032  0.000045   \n",
      "PEP    0.000029  2.476971e-05 -0.000018  1.889531e-05  0.000031  0.000030   \n",
      "\n",
      "                 SO         T            KO            PG       JNJ        WM   \n",
      "CHK    2.295890e-06  0.000051 -2.559868e-07 -1.847586e-05  0.000002 -0.000019  \\\n",
      "AMD   -2.021235e-05 -0.000035 -1.396434e-05 -1.762523e-05  0.000008 -0.000025   \n",
      "LNT    8.038579e-05  0.000031  4.316336e-05  5.522649e-05  0.000041  0.000055   \n",
      "FCX   -2.312769e-05  0.000074  6.821666e-06 -1.646535e-05  0.000016  0.000010   \n",
      "VRTX   2.117628e-05  0.000015  2.164636e-05  2.693951e-05  0.000030  0.000020   \n",
      "WMB    1.238460e-05  0.000046  2.977327e-05  8.642251e-06  0.000010  0.000024   \n",
      "INCY   1.577234e-05  0.000020  1.119825e-05  1.224565e-05  0.000021  0.000003   \n",
      "NFLX   2.567057e-07 -0.000015 -4.381601e-06  1.332287e-05  0.000009 -0.000005   \n",
      "MRO   -4.945489e-05  0.000101  1.408347e-05 -5.581587e-05 -0.000034 -0.000011   \n",
      "MU     6.387421e-07  0.000005  1.680446e-05  2.336602e-07  0.000015 -0.000009   \n",
      "MCD    3.195049e-05  0.000038  4.201153e-05  2.248728e-05  0.000024  0.000031   \n",
      "BRK-B  2.603885e-05  0.000052  3.761923e-05  2.889697e-05  0.000033  0.000043   \n",
      "SO     8.226164e-05  0.000033  3.939855e-05  4.400888e-05  0.000034  0.000043   \n",
      "T      3.342292e-05  0.000118  3.528155e-05  2.689324e-05  0.000025  0.000037   \n",
      "KO     3.939855e-05  0.000035  6.411692e-05  3.950052e-05  0.000032  0.000039   \n",
      "PG     4.400888e-05  0.000027  3.950052e-05  7.404912e-05  0.000040  0.000047   \n",
      "JNJ    3.352174e-05  0.000025  3.221633e-05  3.969798e-05  0.000070  0.000038   \n",
      "WM     4.269773e-05  0.000037  3.913403e-05  4.664856e-05  0.000038  0.000095   \n",
      "RSG    3.973089e-05  0.000032  4.304752e-05  4.660474e-05  0.000040  0.000087   \n",
      "PEP    3.792433e-05  0.000024  4.480619e-05  5.143645e-05  0.000036  0.000041   \n",
      "\n",
      "            RSG       PEP  \n",
      "CHK   -0.000028 -0.000015  \n",
      "AMD   -0.000013  0.000009  \n",
      "LNT    0.000054  0.000049  \n",
      "FCX    0.000003 -0.000018  \n",
      "VRTX   0.000013  0.000031  \n",
      "WMB    0.000015  0.000016  \n",
      "INCY  -0.000003  0.000029  \n",
      "NFLX   0.000003  0.000025  \n",
      "MRO   -0.000031 -0.000018  \n",
      "MU     0.000009  0.000019  \n",
      "MCD    0.000032  0.000031  \n",
      "BRK-B  0.000045  0.000030  \n",
      "SO     0.000040  0.000038  \n",
      "T      0.000032  0.000024  \n",
      "KO     0.000043  0.000045  \n",
      "PG     0.000047  0.000051  \n",
      "JNJ    0.000040  0.000036  \n",
      "WM     0.000087  0.000041  \n",
      "RSG    0.000101  0.000042  \n",
      "PEP    0.000042  0.000075  \n",
      "[ 1.04768237  1.56149436  0.50478598 -0.08400015 -0.83177392 -1.35692302\n",
      " -0.88643124 -0.07989504  1.24347795 -1.57508226  1.67549112  0.03395844\n",
      " -1.31264592 -3.61975939 -0.26324312  1.10890862 -4.52732813  1.51741845\n",
      "  4.68519209  2.15867282]\n",
      "0.9999999999999987\n"
     ]
    }
   ],
   "source": [
    "import cvxpy as cp\n",
    "\n",
    "# Set the target return.\n",
    "target_return = 0.03\n",
    "\n",
    "# Calculate expected returns and the covariance matrix for the 20 stocks.\n",
    "expected_returns = daily_returns.mean()\n",
    "cov_matrix = daily_returns.cov()\n",
    "\n",
    "print(expected_returns)\n",
    "print(cov_matrix)\n",
    "\n",
    "# Convert expected returns and covariance matrix to numpy arrays.\n",
    "expected_returns_np = expected_returns.values\n",
    "cov_matrix_np = cov_matrix.values\n",
    "\n",
    "# Set up the optimization problem.\n",
    "weights = cp.Variable(len(expected_returns_np))\n",
    "objective = cp.Minimize(cp.quad_form(weights, cov_matrix_np))\n",
    "\n",
    "# Adjust this line to work with numpy arrays\n",
    "constraints = [cp.sum(weights) == 1, cp.sum(expected_returns_np @ weights) >= target_return]\n",
    "\n",
    "# Solve the optimization problem\n",
    "prob = cp.Problem(objective, constraints)\n",
    "prob.solve()\n",
    "\n",
    "# Extract the optimal weights\n",
    "optimal_weights = weights.value\n",
    "\n",
    "print(optimal_weights)\n",
    "print(sum(optimal_weights))"
   ]
  },
  {
   "cell_type": "markdown",
   "metadata": {},
   "source": [
    "##### Step 3: Performance Testing"
   ]
  },
  {
   "cell_type": "code",
   "execution_count": 57,
   "metadata": {},
   "outputs": [
    {
     "name": "stdout",
     "output_type": "stream",
     "text": [
      "Date\n",
      "2021-02-11   -0.150774\n",
      "2021-02-12   -0.076386\n",
      "2021-02-16    0.106231\n",
      "2021-02-17   -0.136027\n",
      "2021-02-18    0.102646\n",
      "                ...   \n",
      "2021-06-24    0.010212\n",
      "2021-06-25   -0.029183\n",
      "2021-06-28   -0.053585\n",
      "2021-06-29    0.088756\n",
      "2021-06-30    0.110217\n",
      "Length: 97, dtype: float64\n",
      "[*********************100%***********************]  1 of 1 completed\n",
      "            Portfolio   S&P 500\n",
      "Date                           \n",
      "2021-02-11  -0.150774  0.001662\n",
      "2021-02-12  -0.076386  0.004711\n",
      "2021-02-16   0.106231 -0.000569\n",
      "2021-02-17  -0.136027 -0.000320\n",
      "2021-02-18   0.102646 -0.004416\n",
      "...               ...       ...\n",
      "2021-06-23  -0.057175 -0.001083\n",
      "2021-06-24   0.010212  0.005811\n",
      "2021-06-25  -0.029183  0.003331\n",
      "2021-06-28  -0.053585  0.002315\n",
      "2021-06-29   0.088756  0.000277\n",
      "\n",
      "[96 rows x 2 columns]\n",
      "Mean Daily Return (Portfolio): 0.020864\n",
      "Mean Daily Return (S&P 500): 0.001005\n",
      "Standard Deviation (Portfolio): 0.079126\n",
      "Standard Deviation (S&P 500): 0.008207\n",
      "Sharpe Ratio (Portfolio): 0.263687\n",
      "Sharpe Ratio (S&P 500): 0.122417\n"
     ]
    }
   ],
   "source": [
    "# Portfolio's daily returns for the first half of 2021\n",
    "portfolio_returns_2021 = daily_returns.loc['2021-01-01':'2021-06-30'] @ optimal_weights\n",
    "\n",
    "print(portfolio_returns_2021)\n",
    "\n",
    "# Fetch the S&P 500 data for the first half of 2021\n",
    "sp500_2021 = yf.download('^GSPC', start='2021-01-01', end='2021-06-30')\n",
    "\n",
    "# Calculate daily returns.\n",
    "sp500_2021_returns = sp500_2021['Close'].pct_change().dropna()\n",
    "\n",
    "combined_returns = pd.concat([portfolio_returns_2021, sp500_2021_returns], axis=1, join='inner')\n",
    "combined_returns.columns = ['Portfolio', 'S&P 500']\n",
    "\n",
    "print(combined_returns)\n",
    "\n",
    "# Assume risk-free rate is 0%.\n",
    "risk_free_rate = 0.00\n",
    "\n",
    "# Compute mean daily returns.\n",
    "mean_return_portfolio = combined_returns['Portfolio'].mean()\n",
    "mean_return_sp500 = combined_returns['S&P 500'].mean()\n",
    "\n",
    "# Calculate standard deviation of daily returns.\n",
    "std_dev_portfolio = combined_returns['Portfolio'].std()\n",
    "std_dev_sp500 = combined_returns['S&P 500'].std()\n",
    "\n",
    "# Compute Sharpe Ratios.\n",
    "sharpe_ratio_portfolio = (mean_return_portfolio - risk_free_rate) / std_dev_portfolio\n",
    "sharpe_ratio_sp500 = (mean_return_sp500 - risk_free_rate) / std_dev_sp500\n",
    "\n",
    "# Display results.\n",
    "print(f\"Mean Daily Return (Portfolio): {mean_return_portfolio:.6f}\")\n",
    "print(f\"Mean Daily Return (S&P 500): {mean_return_sp500:.6f}\")\n",
    "print(f\"Standard Deviation (Portfolio): {std_dev_portfolio:.6f}\")\n",
    "print(f\"Standard Deviation (S&P 500): {std_dev_sp500:.6f}\")\n",
    "print(f\"Sharpe Ratio (Portfolio): {sharpe_ratio_portfolio:.6f}\")\n",
    "print(f\"Sharpe Ratio (S&P 500): {sharpe_ratio_sp500:.6f}\")"
   ]
  },
  {
   "cell_type": "markdown",
   "metadata": {},
   "source": [
    "The Sharpe ratio provides a measure of risk-adjusted performance. In this case, despite the higher volatility of the portfolio, its Sharpe ratio is higher than that of the S&P 500. A higher Sharpe ratio indicates that, on a risk-adjusted basis, the portfolio outperformed the S&P 500 during the first half of 2021."
   ]
  },
  {
   "cell_type": "markdown",
   "metadata": {},
   "source": [
    "#### Problem #3"
   ]
  },
  {
   "cell_type": "markdown",
   "metadata": {},
   "source": [
    "Consider the client’s concern with the ENERGY sector (including stocks such as CHK, LNT, WMB, and MRO), please rebuild the portfolio that would eliminate the client’s exposure to energy sector? Test the updated portfolio during the first 6 months of 2021 (01/01/2021 to 06/30/2021) and compare the performance of the portfolio’s daily return with the previous portfolio using Sharpe ratio. (15 points)"
   ]
  },
  {
   "cell_type": "markdown",
   "metadata": {},
   "source": [
    "##### Step 1: Portfolio Construction"
   ]
  },
  {
   "cell_type": "code",
   "execution_count": 66,
   "metadata": {},
   "outputs": [
    {
     "name": "stdout",
     "output_type": "stream",
     "text": [
      "                 AMD       FCX      VRTX      INCY      NFLX        MU   \n",
      "Date                                                                     \n",
      "2021-02-11  0.003357 -0.008003 -0.009552 -0.002113 -0.010646  0.050152  \\\n",
      "2021-02-12  0.011979  0.007744  0.016532 -0.007766 -0.001919  0.017692   \n",
      "2021-02-16 -0.024635  0.053474 -0.017338 -0.026088  0.001366 -0.003068   \n",
      "2021-02-17 -0.016619  0.037994  0.021782  0.019968 -0.010659 -0.019261   \n",
      "2021-02-18 -0.014454 -0.000293 -0.023365 -0.026501 -0.005659  0.028937   \n",
      "...              ...       ...       ...       ...       ...       ...   \n",
      "2021-11-01  0.041587  0.016172  0.002542  0.035384 -0.013240  0.023155   \n",
      "2021-11-02  0.019165  0.005740 -0.021575 -0.084643 -0.005065  0.000849   \n",
      "2021-11-03  0.022722 -0.008301  0.042282  0.052142  0.015596  0.006925   \n",
      "2021-11-04  0.053398 -0.032174  0.027186  0.010481 -0.028898  0.013895   \n",
      "2021-11-05 -0.008436  0.001757 -0.004634  0.008149 -0.024312  0.007967   \n",
      "\n",
      "                 MCD     BRK-B        SO         T        KO        PG   \n",
      "Date                                                                     \n",
      "2021-02-11 -0.000606 -0.000667  0.005908  0.004904  0.014113  0.000858  \\\n",
      "2021-02-12 -0.001727  0.011261 -0.009068  0.003834  0.007753 -0.005533   \n",
      "2021-02-16  0.005283  0.011631 -0.013311  0.005903 -0.008286  0.002351   \n",
      "2021-02-17 -0.007348 -0.000122 -0.000506  0.020711 -0.002785  0.004221   \n",
      "2021-02-18  0.009276 -0.007136  0.009786 -0.011498  0.012767  0.008329   \n",
      "...              ...       ...       ...       ...       ...       ...   \n",
      "2021-11-01  0.020485 -0.002683  0.002567  0.004355 -0.003548 -0.002448   \n",
      "2021-11-02 -0.005348  0.005904  0.000160 -0.005518 -0.001246  0.009955   \n",
      "2021-11-03  0.004654  0.002744  0.000960 -0.001982  0.003387  0.006872   \n",
      "2021-11-04  0.012220 -0.003567 -0.000799 -0.015091  0.005507  0.001861   \n",
      "2021-11-05  0.010021  0.000174  0.011680  0.017540  0.002915  0.004060   \n",
      "\n",
      "                 JNJ        WM       RSG       PEP  \n",
      "Date                                                \n",
      "2021-02-11 -0.004496 -0.004134  0.008506 -0.019826  \n",
      "2021-02-12  0.003131  0.000265 -0.000329 -0.008150  \n",
      "2021-02-16 -0.009065 -0.005740 -0.009643  0.003810  \n",
      "2021-02-17  0.003574 -0.003463 -0.003319  0.000595  \n",
      "2021-02-18  0.000483  0.010872  0.018206  0.006768  \n",
      "...              ...       ...       ...       ...  \n",
      "2021-11-01  0.000860 -0.005929 -0.014487 -0.002104  \n",
      "2021-11-02  0.015765  0.012243  0.011685  0.009178  \n",
      "2021-11-03 -0.003201 -0.009365 -0.013338  0.009586  \n",
      "2021-11-04 -0.002787  0.006198  0.008534  0.000061  \n",
      "2021-11-05 -0.011086 -0.004480 -0.001872  0.008034  \n",
      "\n",
      "[187 rows x 16 columns]\n",
      "[ 2.05069299  0.38853584 -1.01982437 -0.87368644  0.03258062 -1.91994964\n",
      "  2.16959653  2.03266662 -1.59072666 -3.57824856 -0.13278015  0.16702487\n",
      " -6.41277422  2.45484173  4.38745035  2.8446005 ]\n",
      "1.0000000000000022\n"
     ]
    }
   ],
   "source": [
    "# Remove stocks in energy sector.\n",
    "energy_stocks = ['CHK', 'LNT', 'WMB', 'MRO']\n",
    "stocks_without_energy = [stock for stock in stock_symbols if stock not in energy_stocks]\n",
    "\n",
    "# Extracting daily returns for stocks without energy sector\n",
    "daily_returns_without_energy = daily_returns[stocks_without_energy]\n",
    "\n",
    "print(daily_returns_without_energy)\n",
    "\n",
    "# Calculate expected returns and covariance matrix for the remaining stocks\n",
    "expected_returns_without_energy = daily_returns_without_energy.mean().values  # Convert to numpy array\n",
    "cov_matrix_without_energy = daily_returns_without_energy.cov().values  # Convert to numpy array\n",
    "\n",
    "# Set up the optimization problem\n",
    "weights_without_energy = cp.Variable(len(expected_returns_without_energy))\n",
    "objective_without_energy = cp.Minimize(cp.quad_form(weights_without_energy, cov_matrix_without_energy))\n",
    "constraints_without_energy = [cp.sum(weights_without_energy) == 1, expected_returns_without_energy.T @ weights_without_energy >= target_return]\n",
    "\n",
    "# Solve the optimization problem\n",
    "prob_without_energy = cp.Problem(objective_without_energy, constraints_without_energy)\n",
    "prob_without_energy.solve()\n",
    "\n",
    "# Extract the optimal weights for the stocks excluding the energy sector\n",
    "optimal_weights_without_energy = weights_without_energy.value\n",
    "\n",
    "print(optimal_weights_without_energy)\n",
    "print(sum(optimal_weights_without_energy))"
   ]
  }
 ],
 "metadata": {
  "kernelspec": {
   "display_name": "Python 3",
   "language": "python",
   "name": "python3"
  },
  "language_info": {
   "codemirror_mode": {
    "name": "ipython",
    "version": 3
   },
   "file_extension": ".py",
   "mimetype": "text/x-python",
   "name": "python",
   "nbconvert_exporter": "python",
   "pygments_lexer": "ipython3",
   "version": "3.11.5"
  }
 },
 "nbformat": 4,
 "nbformat_minor": 2
}
