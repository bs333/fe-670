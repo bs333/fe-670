{
 "cells": [
  {
   "cell_type": "markdown",
   "metadata": {},
   "source": [
    "### FE670 - Assignment #4"
   ]
  },
  {
   "cell_type": "markdown",
   "metadata": {},
   "source": [
    "**Author**: Sid Bhatia\n",
    "\n",
    "**Date**: November 27th, 2023\n",
    "\n",
    "**Pledge**: I pledge my honor that I have abided by the Stevens Honor System.\n",
    "\n",
    "**Professor**: Dr. Steve Yang"
   ]
  },
  {
   "cell_type": "markdown",
   "metadata": {},
   "source": [
    "#### Problem #1"
   ]
  },
  {
   "cell_type": "markdown",
   "metadata": {},
   "source": [
    "The Relative Strength Index is a momentum oscillator that is used by traders to identify whether the market is in the state of overbought or oversold. A market is considered to be in the state of overbought when an asset is constantly bought by traders moving it to an extremely bullish trend and bound to consolidate. Similarly, a market is considered to be in the state of oversold when an asset is constantly sold by traders moving it to a bearish trend and tends to bounce back.\n",
    "\n",
    "As an oscillation market indicator, the values of RSI bound between 0 to 100. The traditional way to evaluate a market state using the Relative Strength Index is that an RSI reading of 70 or above reveals a state of overbought, and similarly, an RSI reading of 30 or below represents the market is in the state of oversold. The standard setting of RSI is 14 as the lookback period."
   ]
  },
  {
   "cell_type": "markdown",
   "metadata": {},
   "source": [
    "RSI is determined with directional price moves during a given time period $N$ (usually $N = 14$ days).\n",
    "\n",
    "$RSI = 100.0 - (100.0/(1.0 + RS)), RS = \\frac{n_{up}}{n_{down}}$\n",
    "\n",
    "$n_{up}$ and $n_{down}$ are the numbers of upward moves and downward moves of closing price, respectively."
   ]
  },
  {
   "cell_type": "markdown",
   "metadata": {},
   "source": [
    "Usually, these numbers are exponentially smoothed:\n",
    "\n",
    "$$n_{up}(t) = (1 - \\beta) * n_{up}(t - 1) + \\beta U(t), \\\\ \n",
    "n_{down}(t) = (1 - \\beta) * n_{down}(t - 1) + \\beta D(t), \\\\\n",
    "\\text{where} \\\\\n",
    "U(t) = 1, P_t > P_{t - 1}; U(t) = 0, P_t \\leq P_{t - 1} \\\\\n",
    "D(t) = 1, P_{t - 1} > P_t; D(t) = 0, P_{t - 1} \\leq P_t$$"
   ]
  },
  {
   "cell_type": "markdown",
   "metadata": {},
   "source": [
    "There are three steps involved in the calculation of RSI.\n",
    "\n",
    "1. Calculating the Exponential Moving Average (EMA) of the gain and loss of an asset: A word on Exponential Moving Average. EMA is a type of Moving Average (MA) that automatically allocates greater weighting (nothing but importance) to the most recent data point and lesser weighting to data points in the distant past. In this step, we will first calculate the returns of the asset and separate the gains from losses. Using these separated values, the two EMAs for a specified number of periods are calculated.\n",
    "\n",
    "2. Calculating the Relative Strength of an asset: The Relative Strength of an asset is determined by dividing the Exponential Moving Average of the gain of an asset from the Exponential Moving Average of the loss of an asset for a specified number of periods. It can be mathematically represented in equation (2).\n",
    "\n",
    "3. Calculating the RSI values: In this step, we will calculate the RSI itself by making use of the Relative Strength values we calculated in the previous step. To calculate the values of RSI of a given asset for a specified number of periods, there is a formula that we need to follow equation (1)."
   ]
  },
  {
   "cell_type": "markdown",
   "metadata": {},
   "source": [
    "Our strategy reveals a buy signal whenever the previous RSI value is above the oversold level and the current RSI value crosses below the oversold level. Likewise, the strategy reveals a sell signal whenever the previous RSI value is below the oversold level and the current RSI value crosses above the oversold level. Our trading strategy can be represented as follows:\n",
    "\n",
    "$$\\text{If RSI}(t - 1) > 30 \\; \\& \\; \\text{RSI}(t) < 30, \\Rightarrow \\text{BUY} \\\\\n",
    "\\text{If RSI}(t - 1) < 70 \\; \\& \\; \\text{RSI}(t) > 70, \\Rightarrow \\text{SELL}$$"
   ]
  },
  {
   "cell_type": "markdown",
   "metadata": {},
   "source": [
    "Please use the dataset “SP20-2017-2021.csv” and select the stock with the highest volatility, and design a RSI based trading strategy and following the following steps:\n",
    "\n",
    "1. You are going to calculate the values of RSI with 14 as the lookback period using the RSI formula we discussed before. Note: you are defining a function named *get_rsi* that takes the closing price of a stock *ticker* and the lookback period *lookback* as parameters. Inside the function, you are first calculating the returns of the stock using the *diff* function provided by the Pandas package and stored it into the *ret* variable. This function basically subtracts the current value from the previous value. Next, you are passing a for-loop on the *ret* variable to distinguish gains from losses and append those values to the concerning variable (*up* or *down*)."
   ]
  },
  {
   "cell_type": "code",
   "execution_count": 44,
   "metadata": {},
   "outputs": [
    {
     "name": "stdout",
     "output_type": "stream",
     "text": [
      "['CHK', 'AMD', 'LNT', 'FCX', 'VRTX', 'WMB', 'INCY', 'NFLX', 'MRO', 'MU', 'MCD', 'BRK-B', 'SO', 'T', 'KO', 'PG', 'JNJ', 'WM', 'RSG', 'PEP']\n"
     ]
    },
    {
     "name": "stderr",
     "output_type": "stream",
     "text": [
      "C:\\Users\\sbhatia2\\AppData\\Local\\Temp\\ipykernel_22768\\915604797.py:21: SettingWithCopyWarning: \n",
      "A value is trying to be set on a copy of a slice from a DataFrame.\n",
      "Try using .loc[row_indexer,col_indexer] = value instead\n",
      "\n",
      "See the caveats in the documentation: https://pandas.pydata.org/pandas-docs/stable/user_guide/indexing.html#returning-a-view-versus-a-copy\n",
      "  data_cleaned['Date'] = pd.to_datetime(data_cleaned['Date'])\n",
      "C:\\Users\\sbhatia2\\AppData\\Local\\Temp\\ipykernel_22768\\915604797.py:27: SettingWithCopyWarning: \n",
      "A value is trying to be set on a copy of a slice from a DataFrame.\n",
      "Try using .loc[row_indexer,col_indexer] = value instead\n",
      "\n",
      "See the caveats in the documentation: https://pandas.pydata.org/pandas-docs/stable/user_guide/indexing.html#returning-a-view-versus-a-copy\n",
      "  data_cleaned[ticker] = pd.to_numeric(data_cleaned[ticker], errors='coerce')\n"
     ]
    },
    {
     "data": {
      "text/plain": [
       "'MRO'"
      ]
     },
     "execution_count": 44,
     "metadata": {},
     "output_type": "execute_result"
    }
   ],
   "source": [
    "import pandas as pd\n",
    "\n",
    "# Load the CSV file into a DataFrame.\n",
    "file_path = \"C:/Users/sbhatia2/My Drive/University/Academics/Semester V/FE670 - Algorithmic Trading Strategies/FE670 - Homework/FE670 - Homework #4/SP20-2017-2021-1.csv\"\n",
    "data = pd.read_csv(file_path)\n",
    "\n",
    "# print(data.head())\n",
    "\n",
    "# Drop rows with NaN values.\n",
    "data_cleaned = data.dropna()\n",
    "\n",
    "# print(data_cleaned.head())\n",
    "\n",
    "# Extract the tickers from DataFrame.\n",
    "tickers = [col for col in data.columns if col != 'Date'] \n",
    "\n",
    "print(tickers)\n",
    "\n",
    "# Convert 'Date' column to DateTime index.\n",
    "if 'Date' in data_cleaned.columns:\n",
    "    data_cleaned['Date'] = pd.to_datetime(data_cleaned['Date'])\n",
    "    data_cleaned.set_index('Date', inplace=True)\n",
    "\n",
    "# Convert all columns except 'Date' to numeric, ignoring non-numeric values.\n",
    "for ticker in data_cleaned.columns:\n",
    "    if ticker != 'Date':\n",
    "        data_cleaned[ticker] = pd.to_numeric(data_cleaned[ticker], errors='coerce')\n",
    "\n",
    "# Calculate the standard deviation of daily returns for each stock (volatility).\n",
    "volatility = data_cleaned.apply(lambda x: x.pct_change().std())\n",
    "\n",
    "# Identify the ticker with the highest volatility.\n",
    "most_volatile_ticker = volatility.idxmax()\n",
    "\n",
    "most_volatile_ticker"
   ]
  },
  {
   "cell_type": "code",
   "execution_count": 53,
   "metadata": {},
   "outputs": [
    {
     "data": {
      "text/plain": [
       "{'CHK': 0            NaN\n",
       " 1            NaN\n",
       " 2            NaN\n",
       " 3            NaN\n",
       " 4            NaN\n",
       "          ...    \n",
       " 182    56.477929\n",
       " 183    54.196469\n",
       " 184    63.119096\n",
       " 185    52.552924\n",
       " 186    55.256447\n",
       " Length: 187, dtype: float64,\n",
       " 'AMD': 0            NaN\n",
       " 1            NaN\n",
       " 2            NaN\n",
       " 3            NaN\n",
       " 4            NaN\n",
       "          ...    \n",
       " 182    79.613169\n",
       " 183    83.042448\n",
       " 184    86.263905\n",
       " 185    91.003529\n",
       " 186    85.348303\n",
       " Length: 187, dtype: float64,\n",
       " 'LNT': 0            NaN\n",
       " 1            NaN\n",
       " 2            NaN\n",
       " 3            NaN\n",
       " 4            NaN\n",
       "          ...    \n",
       " 182    61.215663\n",
       " 183    64.236122\n",
       " 184    51.227106\n",
       " 185    40.008380\n",
       " 186    51.860848\n",
       " Length: 187, dtype: float64,\n",
       " 'FCX': 0            NaN\n",
       " 1            NaN\n",
       " 2            NaN\n",
       " 3            NaN\n",
       " 4            NaN\n",
       "          ...    \n",
       " 182    57.410368\n",
       " 183    59.067912\n",
       " 184    55.446208\n",
       " 185    43.592022\n",
       " 186    44.317898\n",
       " Length: 187, dtype: float64,\n",
       " 'VRTX': 0            NaN\n",
       " 1            NaN\n",
       " 2            NaN\n",
       " 3            NaN\n",
       " 4            NaN\n",
       "          ...    \n",
       " 182    58.857124\n",
       " 183    42.801294\n",
       " 184    64.330091\n",
       " 185    72.371121\n",
       " 186    69.218556\n",
       " Length: 187, dtype: float64,\n",
       " 'WMB': 0            NaN\n",
       " 1            NaN\n",
       " 2            NaN\n",
       " 3            NaN\n",
       " 4            NaN\n",
       "          ...    \n",
       " 182    53.231280\n",
       " 183    49.337762\n",
       " 184    46.959841\n",
       " 185    46.386631\n",
       " 186    54.276044\n",
       " Length: 187, dtype: float64,\n",
       " 'INCY': 0            NaN\n",
       " 1            NaN\n",
       " 2            NaN\n",
       " 3            NaN\n",
       " 4            NaN\n",
       "          ...    \n",
       " 182    71.881995\n",
       " 183    37.433240\n",
       " 184    52.305051\n",
       " 185    54.919754\n",
       " 186    57.054211\n",
       " Length: 187, dtype: float64,\n",
       " 'NFLX': 0            NaN\n",
       " 1            NaN\n",
       " 2            NaN\n",
       " 3            NaN\n",
       " 4            NaN\n",
       "          ...    \n",
       " 182    68.272589\n",
       " 183    64.716915\n",
       " 184    70.202873\n",
       " 185    52.484514\n",
       " 186    42.397241\n",
       " Length: 187, dtype: float64,\n",
       " 'MRO': 0            NaN\n",
       " 1            NaN\n",
       " 2            NaN\n",
       " 3            NaN\n",
       " 4            NaN\n",
       "          ...    \n",
       " 182    68.577511\n",
       " 183    65.110935\n",
       " 184    53.021801\n",
       " 185    54.822464\n",
       " 186    65.282617\n",
       " Length: 187, dtype: float64,\n",
       " 'MU': 0            NaN\n",
       " 1            NaN\n",
       " 2            NaN\n",
       " 3            NaN\n",
       " 4            NaN\n",
       "          ...    \n",
       " 182    64.599546\n",
       " 183    64.975129\n",
       " 184    68.158213\n",
       " 185    73.724975\n",
       " 186    76.482707\n",
       " Length: 187, dtype: float64,\n",
       " 'MCD': 0            NaN\n",
       " 1            NaN\n",
       " 2            NaN\n",
       " 3            NaN\n",
       " 4            NaN\n",
       "          ...    \n",
       " 182    72.917610\n",
       " 183    67.152458\n",
       " 184    69.556648\n",
       " 185    75.103240\n",
       " 186    78.802215\n",
       " Length: 187, dtype: float64,\n",
       " 'BRK-B': 0            NaN\n",
       " 1            NaN\n",
       " 2            NaN\n",
       " 3            NaN\n",
       " 4            NaN\n",
       "          ...    \n",
       " 182    50.203448\n",
       " 183    56.205551\n",
       " 184    58.878933\n",
       " 185    53.926726\n",
       " 186    54.142711\n",
       " Length: 187, dtype: float64,\n",
       " 'SO': 0            NaN\n",
       " 1            NaN\n",
       " 2            NaN\n",
       " 3            NaN\n",
       " 4            NaN\n",
       "          ...    \n",
       " 182    43.704526\n",
       " 183    43.907371\n",
       " 184    45.272232\n",
       " 185    44.237214\n",
       " 186    59.742250\n",
       " Length: 187, dtype: float64,\n",
       " 'T': 0            NaN\n",
       " 1            NaN\n",
       " 2            NaN\n",
       " 3            NaN\n",
       " 4            NaN\n",
       "          ...    \n",
       " 182    43.606245\n",
       " 183    40.338732\n",
       " 184    39.130465\n",
       " 185    30.990263\n",
       " 186    45.865074\n",
       " Length: 187, dtype: float64,\n",
       " 'KO': 0            NaN\n",
       " 1            NaN\n",
       " 2            NaN\n",
       " 3            NaN\n",
       " 4            NaN\n",
       "          ...    \n",
       " 182    74.781417\n",
       " 183    72.562149\n",
       " 184    74.895493\n",
       " 185    78.359941\n",
       " 186    80.050716\n",
       " Length: 187, dtype: float64,\n",
       " 'PG': 0            NaN\n",
       " 1            NaN\n",
       " 2            NaN\n",
       " 3            NaN\n",
       " 4            NaN\n",
       "          ...    \n",
       " 182    57.697873\n",
       " 183    66.274950\n",
       " 184    71.004365\n",
       " 185    72.229866\n",
       " 186    74.904162\n",
       " Length: 187, dtype: float64,\n",
       " 'JNJ': 0            NaN\n",
       " 1            NaN\n",
       " 2            NaN\n",
       " 3            NaN\n",
       " 4            NaN\n",
       "          ...    \n",
       " 182    50.688764\n",
       " 183    65.910371\n",
       " 184    61.400371\n",
       " 185    57.462765\n",
       " 186    44.423219\n",
       " Length: 187, dtype: float64,\n",
       " 'WM': 0            NaN\n",
       " 1            NaN\n",
       " 2            NaN\n",
       " 3            NaN\n",
       " 4            NaN\n",
       "          ...    \n",
       " 182    53.718941\n",
       " 183    59.755561\n",
       " 184    53.518451\n",
       " 185    56.920103\n",
       " 186    53.626778\n",
       " Length: 187, dtype: float64,\n",
       " 'RSG': 0            NaN\n",
       " 1            NaN\n",
       " 2            NaN\n",
       " 3            NaN\n",
       " 4            NaN\n",
       "          ...    \n",
       " 182    62.108738\n",
       " 183    66.795962\n",
       " 184    57.343824\n",
       " 185    61.329738\n",
       " 186    59.900868\n",
       " Length: 187, dtype: float64,\n",
       " 'PEP': 0            NaN\n",
       " 1            NaN\n",
       " 2            NaN\n",
       " 3            NaN\n",
       " 4            NaN\n",
       "          ...    \n",
       " 182    63.385077\n",
       " 183    70.832838\n",
       " 184    76.617366\n",
       " 185    76.651597\n",
       " 186    80.910360\n",
       " Length: 187, dtype: float64}"
      ]
     },
     "execution_count": 53,
     "metadata": {},
     "output_type": "execute_result"
    }
   ],
   "source": [
    "def get_rsi(ticker: pd.Series, lookback: int = 14) -> pd.Series:\n",
    "    \"\"\"\n",
    "    Calculate the Relative Strength Index (RSI) for a given stock.\n",
    "\n",
    "    Args:\n",
    "    ticker (pd.Series): A Pandas Series containing the closing prices of the stock.\n",
    "    lookback (int, optional): The lookback period for calculating RSI. Default is 14.\n",
    "\n",
    "    Returns:\n",
    "    pd.Series: A Pandas Series containing the RSI values.\n",
    "\n",
    "    The RSI is calculated using the formula:\n",
    "    RSI = 100 - 100 / (1 + RS), where RS is the ratio of the exponential moving average (EMA)\n",
    "    of 'lookback' days' gains to the EMA of 'lookback' days' losses.\n",
    "    \"\"\"\n",
    "    # Calculate returns.\n",
    "    ret = ticker.diff()\n",
    "\n",
    "    # Initialize lists to store up and down movements.\n",
    "    up, down = [], []\n",
    "\n",
    "    # Distinguish gains and losses.\n",
    "    for change in ret[1:]:  # Skip the first NaN value.\n",
    "        if change > 0:\n",
    "            up.append(change)\n",
    "            down.append(0)\n",
    "        else:\n",
    "            down.append(abs(change))\n",
    "            up.append(0)\n",
    "\n",
    "    # Convert lists to Series.\n",
    "    up_series = pd.Series(up)\n",
    "    down_series = pd.Series(down)\n",
    "\n",
    "    # Calculate the EMA of the gains and losses.\n",
    "    ema_up = up_series.ewm(span=lookback, adjust=False).mean()\n",
    "    ema_down = down_series.ewm(span=lookback, adjust=False).mean()\n",
    "\n",
    "    # Calculate Relative Strength (RS).\n",
    "    RS = ema_up / ema_down\n",
    "\n",
    "    # Calculate RSI.\n",
    "    RSI = 100.0 - (100.0 / (1.0 + RS))\n",
    "\n",
    "    # Set the first 'lookback' values to NaN\n",
    "    RSI[:lookback] = pd.NA\n",
    "\n",
    "    return RSI\n",
    "\n",
    "# Dictionary to store RSI values for each ticker.\n",
    "rsi_values = {}\n",
    "\n",
    "# Calculate RSI for each ticker.\n",
    "for ticker in tickers:\n",
    "    if ticker in data_cleaned.columns:\n",
    "        # Calculate RSI for the ticker.\n",
    "        rsi = get_rsi(data_cleaned[ticker], lookback=14)\n",
    "        rsi_values[ticker] = rsi\n",
    "    else:\n",
    "        print(f\"Ticker {ticker} not found in data.\")\n",
    "\n",
    "# Display RSI values for each ticker for 187 trading days.\n",
    "rsi_values"
   ]
  },
  {
   "cell_type": "markdown",
   "metadata": {},
   "source": [
    "2. You are going to plot the calculated Relative Strength Index values of the selected stock to make more sense out of it. The main aim of this part is not on the coding section but instead to observe the plot to gain a solid understanding of RSI. Please plot the price and RSI on the same graph with different colors."
   ]
  },
  {
   "cell_type": "code",
   "execution_count": 54,
   "metadata": {},
   "outputs": [
    {
     "name": "stdout",
     "output_type": "stream",
     "text": [
      "173\n"
     ]
    }
   ],
   "source": [
    "import matplotlib.pyplot as plt\n",
    "\n",
    "# Trim NaN values from the RSI data.\n",
    "rsi_data = rsi_values[most_volatile_ticker].dropna()\n",
    "\n",
    "# # Trim the beginning of the price data to match the length of RSI data.\n",
    "# price_data = data_cleaned[most_volatile_ticker].iloc[14:]\n",
    "# rsi_data = rsi_values[most_volatile_ticker]\n",
    "\n",
    "# price_data\n",
    "\n",
    "# fig, ax1 = plt.subplots(figsize=(12, 8))\n",
    "\n",
    "# # Plotting the stock price\n",
    "# color = 'tab:blue'\n",
    "# ax1.set_xlabel('Date')\n",
    "# ax1.set_ylabel('Price', color=color)\n",
    "# ax1.plot(data_cleaned.index, data_cleaned[most_volatile_ticker], color=color)\n",
    "# ax1.tick_params(axis='y', labelcolor=color)\n",
    "\n",
    "# # Create a second y-axis for the RSI\n",
    "# ax2 = ax1.twinx()  # instantiate a second axes that shares the same x-axis\n",
    "# color = 'tab:red'\n",
    "# ax2.set_ylabel('RSI', color=color)\n",
    "# ax2.plot(data_cleaned.index, rsi_values[most_volatile_ticker], color=color)\n",
    "# ax2.tick_params(axis='y', labelcolor=color)\n",
    "\n",
    "# # Title and layout\n",
    "# plt.title(f'Stock Price and RSI for {most_volatile_ticker}')\n",
    "# fig.tight_layout()  # otherwise the right y-label is slightly clipped\n",
    "\n",
    "# plt.show()"
   ]
  },
  {
   "cell_type": "markdown",
   "metadata": {},
   "source": [
    "3. You are going to implement the discussed Relative Strength Index trading strategy in python. Note: First, you are defining a function named *implement_rsi_strategy* which takes the stock prices (*prices*), and the RSI values (*rsi*) as parameters. Inside the function, you are creating three empty lists (*buy_price*, *sell_price*, and *rsi_signal*) in which the values will be appended while creating the trading strategy. Finally, you are returning the lists appended with values. Then, you are calling the created function and stored the values into their respective variables."
   ]
  },
  {
   "cell_type": "markdown",
   "metadata": {},
   "source": [
    "4. You are going to plot the created trading lists to make sense out of them. You are plotting the Relative Strength Index values along with the buy and sell signals generated by the trading strategy. You can observe that whenever the RSI line crosses from above to below the lower band or the oversold level, a green-colored buy signal is plotted in the chart. Similarly, the RSI line crosses from below to above the upper band or the overbought level, a red-colored sell signal is plotted in the chart."
   ]
  },
  {
   "cell_type": "markdown",
   "metadata": {},
   "source": [
    "5.  You are going to create a list that indicates 1 if we hold the stock or 0 if we dont own or hold the stock. First, you are creating an empty list named position. You are passing two for-loops, one is to generate values for the position list to just match the length of the signal list. The other for-loop is the one we are using to generate actual position values. Finally, you are doing some data manipulations to combine all the created lists into one dataframe."
   ]
  },
  {
   "cell_type": "markdown",
   "metadata": {},
   "source": [
    "#### Problem #2"
   ]
  },
  {
   "cell_type": "markdown",
   "metadata": {},
   "source": [
    "Price action trading is a systematic trading practice, aided by technical analysis tools and recent price history, where traders are free to take their own decisions within a given scenario to take trading positions, as per their subjective, behavioral and psychological state. Since price action trading is an approach to price predictions and speculation, it is used by retail traders, speculators, arbitrageurs and even trading firms who employ traders. It can be used on a wide range of securities including equities, bonds, forex, commodities, derivatives, etc."
   ]
  },
  {
   "cell_type": "markdown",
   "metadata": {},
   "source": [
    "Most scenarios involve a two-step process:\n",
    "\n",
    "1. Identifying a scenario: Like a stock price getting into a bull/bear phase, channel range, breakout, etc.\n",
    "\n",
    "2. Within the scenario, identifying trading opportunities: Like once a stock is in bull run, is it likely to (a) overshoot or (b) retreat. This is a completely subjective choice and can vary from one trader to the other, even given the same identical scenario."
   ]
  },
  {
   "cell_type": "markdown",
   "metadata": {},
   "source": [
    "The random forest algorithm expands on the randomization introduced by the bootstrap samples generated by bagging to reduce variance further and improve predictive performance. In addition to training each ensemble member on bootstrapped training data, random forests also randomly sample from the features used in the model (without replacement). Depending on the implementation, the random samples can be drawn for each tree or each split. As a result, the algorithm faces different options when learning new rules, either at the level of a tree or for each split.\n",
    "\n",
    "You are given a dataset for the 10 stock which consists of the adjusted closing price of each of the 10 stocks. These stock tickers are: ‘GOOGL’, ‘TSLA’, ‘FB’, ‘AMZN’, ‘AAPL’, ‘MSFT’, ‘VOD’, ‘ADBE’, ‘NVDA’, ‘CRM’. This dataset includes all data from January 01, 2015 to December 31, 2020 in “all stocks 10 2015 2020.csv”. You are asked to design a trading strategy based on the Random Forest classification algorithm to trade on all these ten stocks\n",
    "and use Sharpe ratio as your trading performance. You need to training your model using the first 4 years of data and then evaluate the performance of your trading strategy using 2020 data. You are to use Python pandas.ta package to use generate set of following features:\n",
    "\n",
    "1. EMA14: The Exponential Moving Average is more responsive moving average compared to the Simple Moving Average (SMA). Length = 14\n",
    "\n",
    "2. EMA22: The Exponential Moving Average is more responsive moving average compared to the Simple Moving Average (SMA). Length = 22\n",
    "\n",
    "3. RSI: The Relative Strength Index is popular momentum oscillator used to measure the velocity as well as the magnitude of directional price movements.\n",
    "\n",
    "4. PPO: The Percentage Price Oscillator is similar to MACD in measuring momentum.\n",
    "\n",
    "5. MACD: The MACD is a popular indicator to that is used to identify a security’s trend.\n",
    "\n",
    "6. CMO: Attempts to capture the momentum of an asset with overbought at 50 and oversold at -50.\n",
    "\n",
    "7. RETURN: The current return defined as log price difference."
   ]
  },
  {
   "cell_type": "markdown",
   "metadata": {},
   "source": [
    "1. Design a simple trading rule: when $p_t > p_{t - 1}$ and then buy; otherwise sell. Use the Random Forest algorihtm to build a classifier on the 7 features to forecast the next day price trend. Use the same rule to trade on the 10 stocks, and select a highest performing stock. Note: when compare the performance, use Sharpe ratio (mean/std) for the testing period."
   ]
  },
  {
   "cell_type": "markdown",
   "metadata": {},
   "source": [
    "2.  Now assume an updated trading rule: when $\\frac{p_t - p_{t-1}}{p_{t-1}} \\geq \\delta$, and $\\delta = 0.10$ and then buy; otherwise sell. From the last step find the highest performing stock, and change $\\delta$ in different values such as 2%, 5%, 12% and 15%, and re-evaluate the strategy to recommend a better trading strategy. Again, please use out-of-sample Sharpe ratio to measure strategy performance. "
   ]
  }
 ],
 "metadata": {
  "kernelspec": {
   "display_name": "Python 3",
   "language": "python",
   "name": "python3"
  },
  "language_info": {
   "codemirror_mode": {
    "name": "ipython",
    "version": 3
   },
   "file_extension": ".py",
   "mimetype": "text/x-python",
   "name": "python",
   "nbconvert_exporter": "python",
   "pygments_lexer": "ipython3",
   "version": "3.11.5"
  }
 },
 "nbformat": 4,
 "nbformat_minor": 2
}
