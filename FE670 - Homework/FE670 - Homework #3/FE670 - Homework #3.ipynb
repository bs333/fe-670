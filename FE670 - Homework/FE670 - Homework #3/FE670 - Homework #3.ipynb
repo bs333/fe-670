{
 "cells": [
  {
   "cell_type": "markdown",
   "metadata": {},
   "source": [
    "### FE670 - Assignment #3"
   ]
  },
  {
   "cell_type": "markdown",
   "metadata": {},
   "source": [
    "**Author**: Sid Bhatia\n",
    "\n",
    "**Date**: November 9th, 2023\n",
    "\n",
    "**Pledge**: I pledge my honor that I have abided by the Stevens Honor System.\n",
    "\n",
    "**Professor**: Dr. Steve Yang"
   ]
  },
  {
   "cell_type": "markdown",
   "metadata": {},
   "source": [
    "#### Problem #1"
   ]
  },
  {
   "cell_type": "markdown",
   "metadata": {},
   "source": [
    "Shrinkage estimator is a form of averaging different estimators. The shrinkage estimator typically consists of three components: (1) an estimator with little or no structure (like the sample mean above); (2) an estimator with a lot of structure (the shrinkage target); and (3) the shrinkage intensity.\n",
    "\n",
    "$$\\hat{\\mu}_{JS} = (1 - w)\\hat{\\mu} + w\\mu_0\\mathbf{I}$$"
   ]
  },
  {
   "cell_type": "markdown",
   "metadata": {},
   "source": [
    "The most well-known shrinkage estimator used to estimate expected returns in the financial literature is the one proposed by Jorion and Stein (1), where the shrinkage target $\\mu_0\\mathbf{I}$ is given by $\\mu_g\\mathbf{l}$ with:\n",
    "\n",
    "$$\\mu_g = \\frac{\\mathbf{I}^{'} \\Sigma^{-1} \\hat{\\bm{\\mu}}}{\\mathbf{I}^{'}\\bm{\\Sigma^{-1}}\\mathbf{I}}$$\n",
    "\n",
    "and:\n",
    "\n",
    "$$w = \\frac{N + 2}{N + 2 + T(\\hat{\\bm{\\mu}} - \\mu_g\\mathbf{I})^{'}\\bm{\\Sigma}^{-1}(\\hat{\\bm{\\mu}} - \\mu_g\\mathbf{I})}$$"
   ]
  }
 ],
 "metadata": {
  "language_info": {
   "name": "python"
  }
 },
 "nbformat": 4,
 "nbformat_minor": 2
}
