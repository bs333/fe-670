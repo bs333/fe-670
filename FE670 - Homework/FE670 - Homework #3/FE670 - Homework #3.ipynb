{
 "cells": [
  {
   "cell_type": "markdown",
   "metadata": {},
   "source": [
    "### FE670 - Assignment #3"
   ]
  },
  {
   "cell_type": "markdown",
   "metadata": {},
   "source": [
    "**Author**: Sid Bhatia\n",
    "\n",
    "**Date**: November 9th, 2023\n",
    "\n",
    "**Pledge**: I pledge my honor that I have abided by the Stevens Honor System.\n",
    "\n",
    "**Professor**: Dr. Steve Yang"
   ]
  },
  {
   "cell_type": "markdown",
   "metadata": {},
   "source": [
    "#### Problem #1"
   ]
  },
  {
   "cell_type": "markdown",
   "metadata": {},
   "source": [
    "Shrinkage estimator is a form of averaging different estimators. The shrinkage estimator typically consists of three components: (1) an estimator with little or no structure (like the sample mean above); (2) an estimator with a lot of structure (the shrinkage target); and (3) the shrinkage intensity.\n",
    "\n",
    "$$\\hat{\\mu}_{JS} = (1 - w)\\hat{\\mu} + w\\mu_0\\mathbf{I}$$"
   ]
  },
  {
   "cell_type": "markdown",
   "metadata": {},
   "source": [
    "The most well-known shrinkage estimator used to estimate expected returns in the financial literature is the one proposed by Jorion and Stein (1), where the shrinkage target $\\mu_0\\mathbf{I}$ is given by $\\mu_g\\mathbf{l}$ with:\n",
    "\n",
    "$$\\mu_g = \\frac{\\mathbf{I}^{'} \\Sigma^{-1} \\hat{\\boldsymbol{\\mu}}}{\\mathbf{I}^{'}\\boldsymbol{\\Sigma^{-1}}\\mathbf{I}}$$\n",
    "\n",
    "and:\n",
    "\n",
    "$$w = \\frac{N + 2}{N + 2 + T(\\hat{\\boldsymbol{\\mu}} - \\mu_g\\mathbf{I})^{'}\\bm{\\Sigma}^{-1}(\\hat{\\boldsymbol{\\mu}} - \\mu_g\\mathbf{I})}$$"
   ]
  },
  {
   "cell_type": "markdown",
   "metadata": {},
   "source": [
    "The shrinkage estimator for the covariance matrix takes the form:\n",
    "\n",
    "$$\\hat{\\Sigma}_{LW} = w\\hat{\\Sigma}_{CC} + (1 - w)\\hat{\\Sigma}$$\n",
    "\n",
    "where $\\hat{\\Sigma}$ is the sample covariance matrix, and $\\hat{\\Sigma}_{CC}$ is the sample covariance matrix with constant correlation."
   ]
  },
  {
   "cell_type": "markdown",
   "metadata": {},
   "source": [
    "First, we decompose the sample covariance matrix according to $\\hat{\\Sigma} = \\Lambda C \\Lambda^{'}$, where $\\Lambda$ is a diagonal matrix of the standard\n",
    "deviation of returns and $C$ is the sample correlation matrix. The correlation matrix $C$ can be written as:\n",
    "\n",
    "$$C = \\begin{bmatrix}\n",
    "1 & \\hat{\\rho}_{12} & \\cdots & \\hat{\\rho}_{1N} \\\\\n",
    "\\hat{\\rho}_{12} & \\ddots & \\ddots & \\vdots \\\\\n",
    "\\vdots & \\ddots & \\ddots & \\hat{\\rho}_{N-1N} \\\\\n",
    "\\hat{\\rho}_{N1} & \\cdots & \\hat{\\rho}_{NN-1} & 1\n",
    "\\end{bmatrix}$$\n",
    "\n",
    "We then replace the sample correlation matrix with the constant correlation matrix:\n",
    "\n",
    "$$C_{CC} = \\begin{bmatrix}\n",
    "1 & \\hat{\\rho} & \\cdots & \\hat{\\rho} \\\\\n",
    "\\hat{\\rho} & \\ddots & \\ddots & \\vdots \\\\\n",
    "\\vdots & \\ddots & \\ddots & \\hat{\\rho} \\\\\n",
    "\\hat{\\rho} & \\cdots & \\hat{\\rho} & 1\n",
    "\\end{bmatrix}$$\n",
    "\n",
    "where $\\hat{\\rho}$ is the average of all the sample correlations, in other words:\n",
    "\n",
    "$$\\hat{\\rho} = \\frac{2}{(N-1)N}\\sum_{i=1}^{N}\\sum_{j = i + 1}^{N}\\hat{\\rho}_{ij}$$\n",
    "\n",
    "Finally, we have the sample covariance matrix with the constant correlation matrix as $\\hat{\\Sigma}_{CC} = \\Lambda C_{CC} \\Lambda^{'}$, where $\\Lambda$ is a diagonal matrix of the standard deviation of returns and $C$ is the sample correlation matrix."
   ]
  },
  {
   "cell_type": "markdown",
   "metadata": {},
   "source": [
    "We use the classical mean-variance optimization as the *risk minimization* formulation, and this problem is a quadratic optimization problem with equality constraints with the solution given by:\n",
    "\n",
    "$$w = \\boldsymbol{\\lambda} \\boldsymbol{\\hat{\\Sigma}^{-1}\\mathbf{I}} + \\boldsymbol{\\gamma\\hat{\\Sigma}^{-1}\\mu} \\\\\n",
    "\\text{where} \\\\\n",
    "\\boldsymbol{\\lambda} = \\frac{C -\\mu_0B}{\\Delta}, \\boldsymbol{\\gamma} = \\frac{\\mu_0A - B}{\\Delta} \\\\\n",
    "A=\\mathbf{l}^{\\prime} \\hat{\\boldsymbol{\\Sigma}}^{-1} \\mathbf{l}, B=\\mathbf{l}^{\\prime} \\hat{\\boldsymbol{\\Sigma}}^{-1} \\hat{\\boldsymbol{\\mu}}, C=\\hat{\\boldsymbol{\\mu}}^{\\prime} \\hat{\\boldsymbol{\\Sigma}}^{-1} \\hat{\\boldsymbol{\\mu}} \\\\\n",
    "\\Delta = \\mathbf{AC} - \\mathbf{B}^2\n",
    "$$"
   ]
  }
 ],
 "metadata": {
  "language_info": {
   "name": "python"
  }
 },
 "nbformat": 4,
 "nbformat_minor": 2
}
